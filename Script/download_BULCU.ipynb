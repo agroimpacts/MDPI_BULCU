{
 "cells": [
  {
   "cell_type": "code",
   "execution_count": 4,
   "id": "a3788b64",
   "metadata": {},
   "outputs": [
    {
     "name": "stdout",
     "output_type": "stream",
     "text": [
      "0.1.285\n"
     ]
    }
   ],
   "source": [
    "import ee\n",
    "print(ee.__version__)\n",
    "ee.Authenticate() #4/1AX4XfWgp97_v97nZ28Mxbt6GIRB4toBqfXWBt4p--ypz1fDymld6_lu3V90\n",
    "ee.Initialize()"
   ]
  },
  {
   "cell_type": "code",
   "execution_count": null,
   "id": "d34d8ff5",
   "metadata": {},
   "outputs": [],
   "source": [
    "# having some issues in listing image path, so Sitian will hard-code image paths\n",
    "#ee.data.listImages('users/stxiong8/BULCU_grid2500_1870')\n",
    "#ee.data.listBuckets('users/stxiong8')"
   ]
  },
  {
   "cell_type": "code",
   "execution_count": 5,
   "id": "7ced6b24",
   "metadata": {},
   "outputs": [],
   "source": [
    "grid_50x50 = ee.FeatureCollection('projects/AfricaLC_BULC/Sitian/Grid_System/grid_system_50x50')"
   ]
  },
  {
   "cell_type": "code",
   "execution_count": 6,
   "id": "c8011b70",
   "metadata": {},
   "outputs": [
    {
     "name": "stdout",
     "output_type": "stream",
     "text": [
      "{'type': 'Polygon', 'coordinates': [[[33.47175415686665, -12.560205316359538], [33.70588112327453, -12.560205339356985], [33.70588112327453, -12.363205686483761], [33.471754156866645, -12.36320562845352], [33.47175415686665, -12.560205316359538]]]}\n"
     ]
    }
   ],
   "source": [
    "test = grid_50x50.filter(ee.Filter.eq('id',29))\n",
    "print(test.geometry().getInfo())"
   ]
  },
  {
   "cell_type": "code",
   "execution_count": 8,
   "id": "e1d67e6c",
   "metadata": {},
   "outputs": [],
   "source": [
    "for i in [2259,2261]:#range(81,94):\n",
    "    out_image = ee.Image('users/stxiong8/BULCU_grid2500_2259n2261/grid{}-All-Prob-Layers'.format(i))\n",
    "    \n",
    "    grid = grid_50x50.filter(ee.Filter.eq('id',i))\n",
    " \n",
    "    # convert grid to geometry\n",
    "    grid = grid.geometry()\n",
    "    \n",
    "    try:\n",
    "        task = ee.batch.Export.image.toDrive(\n",
    "                              image=out_image, \n",
    "                              description='grid_{}_BULCU'.format(i), \n",
    "                              folder='BULCU_2500grid_2016_backward',\n",
    "                              region=grid,\n",
    "                              scale=30,\n",
    "                              maxPixels=1e13,\n",
    "                              fileFormat='GeoTIFF')\n",
    "        task.start()\n",
    "    except ee.EEException:\n",
    "        print('EEException on {}'.format(i))"
   ]
  },
  {
   "cell_type": "code",
   "execution_count": null,
   "id": "51e561e3",
   "metadata": {},
   "outputs": [],
   "source": []
  }
 ],
 "metadata": {
  "kernelspec": {
   "display_name": "yieldmapping",
   "language": "python",
   "name": "yieldmapping"
  },
  "language_info": {
   "codemirror_mode": {
    "name": "ipython",
    "version": 3
   },
   "file_extension": ".py",
   "mimetype": "text/x-python",
   "name": "python",
   "nbconvert_exporter": "python",
   "pygments_lexer": "ipython3",
   "version": "3.8.12"
  }
 },
 "nbformat": 4,
 "nbformat_minor": 5
}

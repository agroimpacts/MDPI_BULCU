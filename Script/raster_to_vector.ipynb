{
 "cells": [
  {
   "cell_type": "code",
   "execution_count": 1,
   "id": "779ed846",
   "metadata": {},
   "outputs": [],
   "source": [
    "import os\n",
    "from osgeo import gdal,ogr,osr,gdalnumeric\n",
    "import numpy as np"
   ]
  },
  {
   "cell_type": "code",
   "execution_count": 8,
   "id": "c3270358",
   "metadata": {},
   "outputs": [
    {
     "name": "stdout",
     "output_type": "stream",
     "text": [
      "reading tif file...\n"
     ]
    }
   ],
   "source": [
    "# this allows GDAL to throw Python Exceptions\n",
    "gdal.UseExceptions()\n",
    "\n",
    "\n",
    "print(\"reading tif file...\")\n",
    "try:\n",
    "    ds = gdal.Open( \"/media/sitian/_HDD1/BULCU_TIFFS/BULCU_grid2500_2016backward/shapelet_analysis/masked_shapelet_Mosaic.tif\" )\n",
    "except RuntimeError:\n",
    "    print('Unable to open file')\n",
    "\n",
    "try:\n",
    "    srcband = ds.GetRasterBand(1)\n",
    "except RuntimeError:\n",
    "    print('Unable to open file')\n"
   ]
  },
  {
   "cell_type": "code",
   "execution_count": null,
   "id": "bbccf530",
   "metadata": {},
   "outputs": [
    {
     "name": "stdout",
     "output_type": "stream",
     "text": [
      "creating shapefile...\n"
     ]
    }
   ],
   "source": [
    "band = ds.GetRasterBand(1)\n",
    "# elevation 2D numpy array\n",
    "elevation = band.ReadAsArray()\n",
    "\n",
    "# create shapefile datasource from geotiff file\n",
    "#\n",
    "print(\"creating shapefile...\")\n",
    "dst_layername = \"/media/sitian/_HDD1/BULCU_TIFFS/BULCU_grid2500_2016backward/shapelet_analysis/masked_shapelet_Mosaic\"\n",
    "drv = ogr.GetDriverByName(\"ESRI Shapefile\")\n",
    "dst_ds = drv.CreateDataSource( dst_layername + \".shp\" )\n",
    "dst_layer = dst_ds.CreateLayer(dst_layername, srs = None )\n",
    "gdal.Polygonize( srcband, None, dst_layer, -1, [], callback=None)"
   ]
  }
 ],
 "metadata": {
  "kernelspec": {
   "display_name": "yieldmapping",
   "language": "python",
   "name": "yieldmapping"
  },
  "language_info": {
   "codemirror_mode": {
    "name": "ipython",
    "version": 3
   },
   "file_extension": ".py",
   "mimetype": "text/x-python",
   "name": "python",
   "nbconvert_exporter": "python",
   "pygments_lexer": "ipython3",
   "version": "3.8.12"
  }
 },
 "nbformat": 4,
 "nbformat_minor": 5
}

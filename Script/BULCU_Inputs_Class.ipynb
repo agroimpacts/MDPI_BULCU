{
 "cells": [
  {
   "cell_type": "code",
   "execution_count": null,
   "id": "a62ce8c4",
   "metadata": {},
   "outputs": [],
   "source": [
    "import rasterio\n",
    "import numpy as np\n",
    "import os\n",
    "import glob"
   ]
  },
  {
   "cell_type": "code",
   "execution_count": null,
   "id": "e632caf0",
   "metadata": {},
   "outputs": [],
   "source": [
    "class Landsat_Image:\n",
    "    def __init__(self, file_path):\n",
    "        self.file_path = file_path\n",
    "        self.src = rasterio.open(self.file_path)\n",
    "        self.meta_data = self.src.meta\n",
    "            \n",
    "    # get the crop probability stack\n",
    "    @property\n",
    "    def rgb_stack(self): \n",
    "        array = self.src.read()\n",
    "        # select every odd \n",
    "        return array/1000\n"
   ]
  },
  {
   "cell_type": "code",
   "execution_count": null,
   "id": "6902cbdb",
   "metadata": {},
   "outputs": [],
   "source": [
    "class Cluster_Image:\n",
    "    def __init__(self, file_path):\n",
    "        self.file_path = file_path\n",
    "        self.src = rasterio.open(self.file_path)\n",
    "        self.meta_data = self.src.meta\n",
    "            \n",
    "    # get the crop probability stack\n",
    "    @property\n",
    "    def cluster_2015(self): \n",
    "        array = self.src.read()\n",
    "        # select every odd \n",
    "        return array[0,:,:]\n",
    "    @property\n",
    "    def cluster_2010(self): \n",
    "        array = self.src.read()\n",
    "        # select every odd \n",
    "        return array[5,:,:]\n",
    "    @property\n",
    "    def cluster_2005(self): \n",
    "        array = self.src.read()\n",
    "        # select every odd \n",
    "        return array[10,:,:]\n",
    "    @property\n",
    "    def cluster_2000(self): \n",
    "        array = self.src.read()\n",
    "        # select every odd \n",
    "        return array[15,:,:]"
   ]
  }
 ],
 "metadata": {
  "kernelspec": {
   "display_name": "yieldmapping",
   "language": "python",
   "name": "yieldmapping"
  },
  "language_info": {
   "codemirror_mode": {
    "name": "ipython",
    "version": 3
   },
   "file_extension": ".py",
   "mimetype": "text/x-python",
   "name": "python",
   "nbconvert_exporter": "python",
   "pygments_lexer": "ipython3",
   "version": "3.8.12"
  }
 },
 "nbformat": 4,
 "nbformat_minor": 5
}

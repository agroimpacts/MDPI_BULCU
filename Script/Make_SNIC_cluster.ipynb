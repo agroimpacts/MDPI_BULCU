{
 "cells": [
  {
   "cell_type": "code",
   "execution_count": 5,
   "id": "88eadd23",
   "metadata": {},
   "outputs": [
    {
     "name": "stdout",
     "output_type": "stream",
     "text": [
      "0.1.285\n"
     ]
    },
    {
     "data": {
      "text/html": [
       "<p>To authorize access needed by Earth Engine, open the following\n",
       "        URL in a web browser and follow the instructions:</p>\n",
       "        <p><a href=https://accounts.google.com/o/oauth2/auth?client_id=517222506229-vsmmajv00ul0bs7p89v5m89qs8eb9359.apps.googleusercontent.com&scope=https%3A%2F%2Fwww.googleapis.com%2Fauth%2Fearthengine+https%3A%2F%2Fwww.googleapis.com%2Fauth%2Fdevstorage.full_control&redirect_uri=urn%3Aietf%3Awg%3Aoauth%3A2.0%3Aoob&response_type=code&code_challenge=YJ_RTZwOfWgvqNJZ0kizoN38vA8mnw4bNUZYWz-5KI4&code_challenge_method=S256>https://accounts.google.com/o/oauth2/auth?client_id=517222506229-vsmmajv00ul0bs7p89v5m89qs8eb9359.apps.googleusercontent.com&scope=https%3A%2F%2Fwww.googleapis.com%2Fauth%2Fearthengine+https%3A%2F%2Fwww.googleapis.com%2Fauth%2Fdevstorage.full_control&redirect_uri=urn%3Aietf%3Awg%3Aoauth%3A2.0%3Aoob&response_type=code&code_challenge=YJ_RTZwOfWgvqNJZ0kizoN38vA8mnw4bNUZYWz-5KI4&code_challenge_method=S256</a></p>\n",
       "        <p>The authorization workflow will generate a code, which you\n",
       "        should paste in the box below</p>\n",
       "        "
      ],
      "text/plain": [
       "<IPython.core.display.HTML object>"
      ]
     },
     "metadata": {},
     "output_type": "display_data"
    },
    {
     "name": "stdin",
     "output_type": "stream",
     "text": [
      "Enter verification code:  4/1AX4XfWi8nmCZ_qTAK1aw632bjjndcRRL9SzZLrdRc1_1k8_zCiRRyhZAVWk\n"
     ]
    },
    {
     "name": "stdout",
     "output_type": "stream",
     "text": [
      "\n",
      "Successfully saved authorization token.\n"
     ]
    }
   ],
   "source": [
    "import ee\n",
    "print(ee.__version__)\n",
    "ee.Authenticate() #4/1AX4XfWgp97_v97nZ28Mxbt6GIRB4toBqfXWBt4p--ypz1fDymld6_lu3V90\n",
    "ee.Initialize()"
   ]
  },
  {
   "cell_type": "code",
   "execution_count": 4,
   "id": "ed99fdcc",
   "metadata": {},
   "outputs": [],
   "source": [
    "from IPython.display import Image"
   ]
  },
  {
   "cell_type": "code",
   "execution_count": 1,
   "id": "5f672c0f",
   "metadata": {},
   "outputs": [],
   "source": [
    "# 1. define functions: \n",
    "# reduce_SNIC_largesample takes a SNIC_cluster image (~10k clusters), vectorize them into polygons, \n",
    "# cut them by every 5000 vectors and append to a list.\n",
    "# for each list, extract features for each polygons\n",
    "# from train_image (spectral bands).  \n",
    "def reduce_SNIC_largesample(snic_cluster_img, spectral_bands, vector_scale, selector, ee_reducer):\n",
    "    \n",
    "    def vec_index_list(i):\n",
    "        index_seg = ee.FeatureCollection(vectors.toList(cut_length, i))\n",
    "        return index_seg\n",
    "    \n",
    "    def extract(in_vec):\n",
    "        cluster_signals = spectral_bands.reduceRegions(collection=ee.FeatureCollection(in_vec),\n",
    "                                                      scale=10,\n",
    "                                                      reducer=ee_reducer)  \n",
    "        return ee.FeatureCollection(cluster_signals)\n",
    "    \n",
    "    \n",
    "    spectral_bands = spectral_bands.select(selector)\n",
    "    \n",
    "    # raster to vector\n",
    "    vectors = snic_cluster_img.reduceToVectors(crs=snic_cluster_img.projection(),\n",
    "                                               scale=vector_scale,\n",
    "                                               geometryType='polygon',\n",
    "                                               eightConnected=False,\n",
    "                                               labelProperty='clusters',\n",
    "                                               maxPixels=1e11,\n",
    "                                               reducer=None\n",
    "                                              )\n",
    "    \n",
    "    # get rid of vector properties, so the following reduceRegions will return only spectral info\n",
    "    vectors = vectors.select([])\n",
    "    \n",
    "    # cut vectors by 5000\n",
    "    vec_size = vectors.size()\n",
    "    cut_length = 5000\n",
    "    \n",
    "    n = ee.List.sequence(0, vec_size, cut_length)\n",
    "    vec_list = n.map(vec_index_list)\n",
    "    \n",
    "    extracted = vec_list.map(extract)\n",
    "    \n",
    "    band_names = ee.FeatureCollection(extracted.get(0)).first().toDictionary().keys()\n",
    "    \n",
    "    all_ft = ee.FeatureCollection(extracted).flatten().set({'properties': {'band_order': band_names}})\n",
    "\n",
    "    return all_ft\n",
    "      "
   ]
  },
  {
   "cell_type": "code",
   "execution_count": 2,
   "id": "b4d469e4",
   "metadata": {},
   "outputs": [],
   "source": [
    "# SNIC_clustering()\n",
    "def SNIC_clustering(train_image):\n",
    "    seeds = ee.Algorithms.Image.Segmentation.seedGrid(30)\n",
    "    snic = ee.Algorithms.Image.Segmentation.SNIC(image=train_image,\n",
    "                                                #size=200\n",
    "                                                 compactness=9,\n",
    "                                                 connectivity=8,\n",
    "                                                 neighborhoodSize=256,\n",
    "                                                 seeds=seeds\n",
    "                                                )\n",
    "    snic_cluster = snic.select('clusters')\n",
    "    return(snic_cluster)"
   ]
  },
  {
   "cell_type": "code",
   "execution_count": 24,
   "id": "eaa51acb",
   "metadata": {
    "jupyter": {
     "source_hidden": true
    }
   },
   "outputs": [],
   "source": [
    "# load earth engine assets\n",
    "\n",
    "# load Zambia boudanry\n",
    "zambia = ee.FeatureCollection('users/stxiong8/zambia_all_boundaries/Zam_national_boundary_epsg4326')\n",
    "\n",
    "# make zambia a geometry\n",
    "zambia = zambia.first().geometry()\n",
    "\n",
    "\n",
    "grid_50x50 = ee.FeatureCollection('projects/AfricaLC_BULC/Sitian/Grid_System/grid_system_50x50')"
   ]
  },
  {
   "cell_type": "code",
   "execution_count": 3,
   "id": "7b9bd911",
   "metadata": {},
   "outputs": [],
   "source": [
    "# 2. define a year-training_dictionary \n",
    "train_dict = {\n",
    "    2000: 'users/stxiong8/BULCU_Training_Image/ZMB_30m_Training_Image_2000',\n",
    "    2001: 'users/stxiong8/BULCU_Training_Image/ZMB_30m_Training_Image_2001',\n",
    "    2002: 'users/stxiong8/BULCU_Training_Image/ZMB_30m_Training_Image_2002',\n",
    "    2003: 'users/stxiong8/BULCU_Training_Image/ZMB_30m_Training_Image_2003',\n",
    "    2004: 'users/stxiong8/BULCU_Training_Image/ZMB_30m_Training_Image_2004',\n",
    "    2005: 'users/stxiong8/BULCU_Training_Image/ZMB_30m_Training_Image_2005',\n",
    "    2006: 'users/stxiong8/BULCU_Training_Image/ZMB_30m_Training_Image_2006',\n",
    "    2007: 'users/stxiong8/BULCU_Training_Image/ZMB_30m_Training_Image_2007',\n",
    "    2008: 'users/stxiong8/BULCU_Training_Image/ZMB_30m_Training_Image_2008',\n",
    "    2009: 'users/stxiong8/BULCU_Training_Image/ZMB_30m_Training_Image_2009',\n",
    "    2010: 'users/stxiong8/BULCU_Training_Image/ZMB_30m_Training_Image_2010',\n",
    "    2011: 'users/stxiong8/BULCU_Training_Image/ZMB_30m_Training_Image_2011',\n",
    "    2012: 'users/stxiong8/BULCU_Training_Image/ZMB_30m_Training_Image_2012',\n",
    "    2013: 'users/stxiong8/BULCU_Training_Image/ZMB_30m_Training_Image_2013',\n",
    "    2014: 'users/stxiong8/BULCU_Training_Image/ZMB_30m_Training_Image_2014',\n",
    "    2015: 'users/stxiong8/BULCU_Training_Image/ZMB_30m_Training_Image_2015',\n",
    "    2016: 'users/stxiong8/BULCU_Training_Image/ZMB_30m_Training_Image_2016'\n",
    "  };"
   ]
  },
  {
   "cell_type": "code",
   "execution_count": 6,
   "id": "6a555a81",
   "metadata": {},
   "outputs": [],
   "source": [
    "grid_50x50 = ee.FeatureCollection('projects/AfricaLC_BULC/Sitian/Grid_System/grid_system_50x50')\n",
    "zambia = ee.FeatureCollection('users/stxiong8/zambia_all_boundaries/Zam_national_boundary_epsg4326')"
   ]
  },
  {
   "cell_type": "code",
   "execution_count": 20,
   "id": "304c29ac",
   "metadata": {},
   "outputs": [
    {
     "name": "stdout",
     "output_type": "stream",
     "text": [
      "2261\n"
     ]
    }
   ],
   "source": [
    "# try out which grid element and its corresponding grid id\n",
    "grid = ee.Feature(grid_50x50.toList(1,1386).get(0))\n",
    "grid_id = grid.get('id').getInfo()\n",
    "print(grid_id)"
   ]
  },
  {
   "cell_type": "markdown",
   "id": "c6d9c5e3",
   "metadata": {},
   "source": [
    "Main workflow"
   ]
  },
  {
   "cell_type": "code",
   "execution_count": 21,
   "id": "136fa2cc",
   "metadata": {},
   "outputs": [
    {
     "name": "stdout",
     "output_type": "stream",
     "text": [
      "all tasks started\n"
     ]
    }
   ],
   "source": [
    "for i in [1384,1386]:#range(10,23):#597\n",
    "    \n",
    "    if i%100==0:\n",
    "        print(i)\n",
    "    \n",
    "    # get grid by index 0 to ~1500\n",
    "    grid = ee.Feature(grid_50x50.toList(1, i).get(0)) # toList(1,i) means start from the ith, and fetch 1 feature \n",
    "    \n",
    "    # get grid id (the first grid's id is 29 in my grid_50x50)\n",
    "    grid_id = grid.get('id').getInfo()\n",
    "    #print('grid_id: ', grid_id)\n",
    "    \n",
    "    # convert grid to geometry\n",
    "    grid = grid.geometry()\n",
    "    \n",
    "    clust_list = []\n",
    "    \n",
    "    for year in range(2000, 2016):\n",
    "        \n",
    "        # get training_image, fill the holes (already treated, but in case) by 1, clip by grid, clip by zambia incase the grid falls outside zam\n",
    "        train_image = ee.Image(train_dict[year]).unmask(1).clip(grid).clip(zambia)\n",
    "        snic_cluster = SNIC_clustering(train_image)\n",
    "        \n",
    "        cluster_signals = reduce_SNIC_largesample(snic_cluster,\n",
    "                                                train_image,\n",
    "                                                30,\n",
    "                                                train_image.bandNames(),# use all bands,can specify ['VV','VH','VV_d_VH','sar_inc']\n",
    "                                                ee.Reducer.mean().combine(ee.Reducer.stdDev(),\"\",True))\n",
    "        \n",
    "        clusterer = ee.Clusterer.wekaKMeans(20).train(cluster_signals)\n",
    "        # reduce ~10k clusters to 20\n",
    "        clustered_cluster = cluster_signals.cluster(clusterer, 'new_cluster')\n",
    "        clustered_cluster = clustered_cluster.select('new_cluster')\n",
    "        \n",
    "        # vector to image\n",
    "        clust = clustered_cluster.reduceToImage(properties=['new_cluster'],\n",
    "                                                reducer=ee.Reducer.first()).clip(grid).rename(['Year'+str(year)])\n",
    "        \n",
    "        clust_list.append(clust)\n",
    "        \n",
    "#         url = train_image.clip(grid).select(0).getThumbURL({\n",
    "#             'min': 0, 'max': 20, 'region': grid, 'dimensions': 256,\n",
    "#             'palette': ['blue', 'yellow', 'orange', 'red']})\n",
    "#         print(url)\n",
    "#         Image(url=url)\n",
    "    \n",
    "    clust_image_multiyear = ee.Image(clust_list[::-1])\n",
    "    \n",
    "#     task = ee.batch.Export.image.toDrive(image=clust_image_multiyear, \n",
    "#                                          description='grid_'+str(grid_id)+'_u-sd_reduced_SNIC'+'-20class',\n",
    "#                                          scale=30,\n",
    "#                                          region=grid,\n",
    "#                                          folder='Reduced_SNIC_50x50_u-sd_20class',\n",
    "#                                          fileNamePrefix='grid_'+str(grid_id)+'_u-sd_reduced_SNIC'+'-20class',\n",
    "#                                          crs='EPSG:4326',\n",
    "#                                          fileFormat='GeoTIFF')\n",
    "    \n",
    "    \n",
    "    task = ee.batch.Export.image.toAsset(image=clust_image_multiyear, \n",
    "                                         description='grid_'+str(grid_id)+'_u-sd_reduced_SNIC'+'-20class', \n",
    "                                         assetId='users/stxiong8/Reduced_SNIC_2259n2261/grid_'+str(grid_id)+'_u-sd_reduced_SNIC'+'-20class', \n",
    "                                         region=grid, \n",
    "                                         scale=30, \n",
    "                                         crs='EPSG:4326', \n",
    "                                         maxPixels=1e13\n",
    "                                        )\n",
    "    \n",
    "    \n",
    "    task.start()\n",
    "\n",
    "\n",
    "print('all tasks started')    \n",
    "    \n",
    "\n",
    "    "
   ]
  },
  {
   "cell_type": "code",
   "execution_count": 2,
   "id": "45e3076c",
   "metadata": {},
   "outputs": [
    {
     "data": {
      "text/plain": [
       "[2000,\n",
       " 2001,\n",
       " 2002,\n",
       " 2003,\n",
       " 2004,\n",
       " 2005,\n",
       " 2006,\n",
       " 2007,\n",
       " 2008,\n",
       " 2009,\n",
       " 2010,\n",
       " 2011,\n",
       " 2012,\n",
       " 2013,\n",
       " 2014,\n",
       " 2015]"
      ]
     },
     "execution_count": 2,
     "metadata": {},
     "output_type": "execute_result"
    }
   ],
   "source": [
    "[year for year in range(2000, 2016)]"
   ]
  }
 ],
 "metadata": {
  "kernelspec": {
   "display_name": "yieldmapping",
   "language": "python",
   "name": "yieldmapping"
  },
  "language_info": {
   "codemirror_mode": {
    "name": "ipython",
    "version": 3
   },
   "file_extension": ".py",
   "mimetype": "text/x-python",
   "name": "python",
   "nbconvert_exporter": "python",
   "pygments_lexer": "ipython3",
   "version": "3.8.12"
  }
 },
 "nbformat": 4,
 "nbformat_minor": 5
}

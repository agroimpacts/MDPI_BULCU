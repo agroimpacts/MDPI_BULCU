{
 "cells": [
  {
   "cell_type": "code",
   "execution_count": 2,
   "id": "e1fa8e26",
   "metadata": {},
   "outputs": [],
   "source": [
    "import rasterio\n",
    "from rasterio.windows import Window\n",
    "import os"
   ]
  },
  {
   "cell_type": "code",
   "execution_count": null,
   "id": "aae9cae2",
   "metadata": {},
   "outputs": [],
   "source": [
    "# adapted from https://gis.stackexchange.com/questions/371016/cut-a-multispectral-tiff-into-smaller-parts"
   ]
  },
  {
   "cell_type": "code",
   "execution_count": 5,
   "id": "cbeb9f68",
   "metadata": {},
   "outputs": [],
   "source": [
    "dat_dir = '/media/sitian/HDD1/BULCU_TIFFS/BULCU_grid2500_2016backward/shapelet_analysis/'\n",
    "with rasterio.open(os.path.join(dat_dir, 'masked_shapelet_Mosaic_binary.tif')) as file:\n",
    "    src = file.read()\n",
    "\n",
    "    bands, height, width = src.shape\n",
    "\n",
    "    grid_size = 2\n",
    "    grid_width = int(width/grid_size)\n",
    "    grid_height = int(height/grid_size)\n",
    "    \n",
    "    profile = file.profile\n",
    "    profile.update(\n",
    "    width=grid_width,\n",
    "    height=grid_height)\n",
    "\n",
    "    for i in range(grid_size):\n",
    "        for j in range(grid_size):\n",
    "            window = Window(int(width*i/grid_size), int(height*j/grid_size), grid_width, grid_height)\n",
    "            src = file.read(window=window)\n",
    "            \n",
    "            transform = file.window_transform(window)\n",
    "            profile.update({'transform': transform})\n",
    "            \n",
    "            with rasterio.open(os.path.join('/media/sitian/HDD1/BULCU_TIFFS/BULCU_grid2500_2016backward/','shapelet_analysis/cut_{}_{}.tif'.format(i,j)), 'w', **profile) as sink:\n",
    "                sink.write(src)"
   ]
  },
  {
   "cell_type": "code",
   "execution_count": null,
   "id": "35300b90",
   "metadata": {},
   "outputs": [],
   "source": []
  }
 ],
 "metadata": {
  "kernelspec": {
   "display_name": "yieldmapping",
   "language": "python",
   "name": "yieldmapping"
  },
  "language_info": {
   "codemirror_mode": {
    "name": "ipython",
    "version": 3
   },
   "file_extension": ".py",
   "mimetype": "text/x-python",
   "name": "python",
   "nbconvert_exporter": "python",
   "pygments_lexer": "ipython3",
   "version": "3.8.12"
  }
 },
 "nbformat": 4,
 "nbformat_minor": 5
}

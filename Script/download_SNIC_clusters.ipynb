{
 "cells": [
  {
   "cell_type": "code",
   "execution_count": 1,
   "id": "66aa02a2",
   "metadata": {},
   "outputs": [
    {
     "name": "stdout",
     "output_type": "stream",
     "text": [
      "0.1.285\n"
     ]
    },
    {
     "data": {
      "text/html": [
       "<p>To authorize access needed by Earth Engine, open the following\n",
       "        URL in a web browser and follow the instructions:</p>\n",
       "        <p><a href=https://accounts.google.com/o/oauth2/auth?client_id=517222506229-vsmmajv00ul0bs7p89v5m89qs8eb9359.apps.googleusercontent.com&scope=https%3A%2F%2Fwww.googleapis.com%2Fauth%2Fearthengine+https%3A%2F%2Fwww.googleapis.com%2Fauth%2Fdevstorage.full_control&redirect_uri=urn%3Aietf%3Awg%3Aoauth%3A2.0%3Aoob&response_type=code&code_challenge=FLrePrxGfJQhn51RYDSbawNVPuB9EQlhrsPKCZOLljk&code_challenge_method=S256>https://accounts.google.com/o/oauth2/auth?client_id=517222506229-vsmmajv00ul0bs7p89v5m89qs8eb9359.apps.googleusercontent.com&scope=https%3A%2F%2Fwww.googleapis.com%2Fauth%2Fearthengine+https%3A%2F%2Fwww.googleapis.com%2Fauth%2Fdevstorage.full_control&redirect_uri=urn%3Aietf%3Awg%3Aoauth%3A2.0%3Aoob&response_type=code&code_challenge=FLrePrxGfJQhn51RYDSbawNVPuB9EQlhrsPKCZOLljk&code_challenge_method=S256</a></p>\n",
       "        <p>The authorization workflow will generate a code, which you\n",
       "        should paste in the box below</p>\n",
       "        "
      ],
      "text/plain": [
       "<IPython.core.display.HTML object>"
      ]
     },
     "metadata": {},
     "output_type": "display_data"
    },
    {
     "name": "stdin",
     "output_type": "stream",
     "text": [
      "Enter verification code:  4/1AX4XfWhot1QwHWxnOxs1tUd5F689Y8P8nnQxNyABKH_DkZwENypgvx0P5ZQ\n"
     ]
    },
    {
     "name": "stdout",
     "output_type": "stream",
     "text": [
      "\n",
      "Successfully saved authorization token.\n"
     ]
    }
   ],
   "source": [
    "import ee\n",
    "print(ee.__version__)\n",
    "ee.Authenticate() #4/1AX4XfWgp97_v97nZ28Mxbt6GIRB4toBqfXWBt4p--ypz1fDymld6_lu3V90\n",
    "ee.Initialize()"
   ]
  },
  {
   "cell_type": "code",
   "execution_count": null,
   "id": "15b10870",
   "metadata": {},
   "outputs": [],
   "source": [
    "# having some issues in listing image path, so Sitian will hard-code image paths\n",
    "#ee.data.listImages('users/stxiong8/BULCU_grid2500_1870')\n",
    "#ee.data.listBuckets('users/stxiong8')"
   ]
  },
  {
   "cell_type": "code",
   "execution_count": 2,
   "id": "b64a64ff",
   "metadata": {},
   "outputs": [],
   "source": [
    "grid_50x50 = ee.FeatureCollection('projects/AfricaLC_BULC/Sitian/Grid_System/grid_system_50x50')"
   ]
  },
  {
   "cell_type": "code",
   "execution_count": 3,
   "id": "1ce7b55d",
   "metadata": {},
   "outputs": [
    {
     "name": "stdout",
     "output_type": "stream",
     "text": [
      "{'type': 'Polygon', 'coordinates': [[[33.47175415686665, -12.560205316359538], [33.70588112327453, -12.560205339356985], [33.70588112327453, -12.363205686483761], [33.471754156866645, -12.36320562845352], [33.47175415686665, -12.560205316359538]]]}\n"
     ]
    }
   ],
   "source": [
    "test = grid_50x50.filter(ee.Filter.eq('id',29))\n",
    "print(test.geometry().getInfo())"
   ]
  },
  {
   "cell_type": "code",
   "execution_count": 12,
   "id": "5f13d1d9",
   "metadata": {},
   "outputs": [
    {
     "name": "stdout",
     "output_type": "stream",
     "text": [
      "EEException on 851\n",
      "EEException on 852\n",
      "EEException on 853\n",
      "EEException on 854\n",
      "EEException on 855\n",
      "EEException on 856\n",
      "EEException on 857\n",
      "EEException on 858\n",
      "EEException on 859\n",
      "EEException on 860\n",
      "EEException on 861\n",
      "EEException on 862\n",
      "EEException on 876\n",
      "EEException on 877\n",
      "EEException on 878\n",
      "EEException on 901\n",
      "EEException on 902\n",
      "EEException on 903\n",
      "EEException on 904\n",
      "EEException on 905\n",
      "EEException on 906\n",
      "EEException on 907\n",
      "EEException on 908\n",
      "EEException on 909\n",
      "EEException on 910\n",
      "EEException on 911\n",
      "EEException on 926\n",
      "EEException on 927\n",
      "EEException on 928\n",
      "EEException on 951\n",
      "EEException on 952\n",
      "EEException on 953\n",
      "EEException on 954\n",
      "EEException on 955\n",
      "EEException on 956\n",
      "EEException on 957\n",
      "EEException on 958\n",
      "EEException on 959\n",
      "EEException on 960\n",
      "EEException on 975\n",
      "EEException on 976\n",
      "EEException on 977\n",
      "EEException on 978\n"
     ]
    }
   ],
   "source": [
    "for i in range(819,1000):\n",
    "    out_image = ee.Image('users/stxiong8/Reduced_SNIC_819-999/grid_{}_u-sd_reduced_SNIC-20class'.format(i))\n",
    "    \n",
    "    grid = grid_50x50.filter(ee.Filter.eq('id',i))\n",
    " \n",
    "    # convert grid to geometry\n",
    "    grid = grid.geometry()\n",
    "    \n",
    "    try:\n",
    "        task = ee.batch.Export.image.toDrive(\n",
    "                              image=out_image, \n",
    "                              description='grid_{}_BULCU'.format(i), \n",
    "                              folder='BULCU_SNIC_clusters',\n",
    "                              region=grid,\n",
    "                              scale=30,\n",
    "                              maxPixels=1e13,\n",
    "                              fileFormat='GeoTIFF')\n",
    "        task.start()\n",
    "    except ee.EEException:\n",
    "        print('EEException on {}'.format(i))"
   ]
  },
  {
   "cell_type": "code",
   "execution_count": null,
   "id": "4cdc29ff",
   "metadata": {},
   "outputs": [],
   "source": []
  },
  {
   "cell_type": "code",
   "execution_count": null,
   "id": "2b9e29f6",
   "metadata": {},
   "outputs": [],
   "source": []
  }
 ],
 "metadata": {
  "kernelspec": {
   "display_name": "yieldmapping",
   "language": "python",
   "name": "yieldmapping"
  },
  "language_info": {
   "codemirror_mode": {
    "name": "ipython",
    "version": 3
   },
   "file_extension": ".py",
   "mimetype": "text/x-python",
   "name": "python",
   "nbconvert_exporter": "python",
   "pygments_lexer": "ipython3",
   "version": "3.8.12"
  }
 },
 "nbformat": 4,
 "nbformat_minor": 5
}

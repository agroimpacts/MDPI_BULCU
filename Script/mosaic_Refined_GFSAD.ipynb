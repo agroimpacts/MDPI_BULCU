{
 "cells": [
  {
   "cell_type": "code",
   "execution_count": 17,
   "id": "6c399102",
   "metadata": {},
   "outputs": [],
   "source": [
    "import rasterio\n",
    "from rasterio.merge import merge\n",
    "from rasterio.plot import show\n",
    "import glob\n",
    "import os"
   ]
  },
  {
   "cell_type": "code",
   "execution_count": 30,
   "id": "f8a9f2fe",
   "metadata": {},
   "outputs": [],
   "source": [
    "dirpath = r\"/media/sitian/HDD1/BULCU_TIFFS/BULCU_Refine_GFSAD/Refined_tiles_2/\"\n",
    "out_fp = r\"/media/sitian/HDD1/BULCU_TIFFS/BULCU_Refine_GFSAD/Mosaic_Refined_tiles/Refined_GFSAD_2.tif\"\n",
    "search_criteria = \"*.tif\"\n",
    "q = os.path.join(dirpath, search_criteria)\n",
    "tif_fps = glob.glob(q)"
   ]
  },
  {
   "cell_type": "code",
   "execution_count": 31,
   "id": "55a318b3",
   "metadata": {},
   "outputs": [],
   "source": [
    "src_files_to_mosaic = []\n",
    "for fp in tif_fps:\n",
    "    src = rasterio.open(fp)\n",
    "    src_files_to_mosaic.append(src)\n"
   ]
  },
  {
   "cell_type": "code",
   "execution_count": 32,
   "id": "058b77bc",
   "metadata": {},
   "outputs": [],
   "source": [
    "mosaic, out_trans = merge(src_files_to_mosaic)"
   ]
  },
  {
   "cell_type": "code",
   "execution_count": 33,
   "id": "806b75b0",
   "metadata": {},
   "outputs": [
    {
     "data": {
      "text/plain": [
       "(1, 36552, 43440)"
      ]
     },
     "execution_count": 33,
     "metadata": {},
     "output_type": "execute_result"
    }
   ],
   "source": [
    "mosaic.shape"
   ]
  },
  {
   "cell_type": "markdown",
   "id": "f2df1ba8",
   "metadata": {},
   "source": [
    "## mosiac and write out masked shapelet images"
   ]
  },
  {
   "cell_type": "code",
   "execution_count": 34,
   "id": "f2d5f78a",
   "metadata": {},
   "outputs": [],
   "source": [
    "out_meta = src.meta.copy()\n",
    "\n",
    "out_meta.update({\"driver\": \"GTiff\",\n",
    "                 \"height\": mosaic.shape[1],\n",
    "                 \"width\": mosaic.shape[2],\n",
    "                 \"transform\": out_trans,\n",
    "                 \"crs\": \"+proj=longlat +ellps=WGS84 +datum=WGS84 +no_defs\"\n",
    "                            }\n",
    "                            )"
   ]
  },
  {
   "cell_type": "code",
   "execution_count": 35,
   "id": "908e832e",
   "metadata": {},
   "outputs": [],
   "source": [
    "with rasterio.open(out_fp, \"w\", **out_meta) as dest:\n",
    "    dest.write(mosaic)"
   ]
  },
  {
   "cell_type": "markdown",
   "id": "ca3b4fe9",
   "metadata": {},
   "source": [
    "## create a binary crop expansion map 2000-2015"
   ]
  },
  {
   "cell_type": "code",
   "execution_count": 17,
   "id": "70a5934f",
   "metadata": {},
   "outputs": [],
   "source": [
    "import numpy as np"
   ]
  },
  {
   "cell_type": "code",
   "execution_count": 18,
   "id": "adf3a2f0",
   "metadata": {},
   "outputs": [],
   "source": [
    "out_binary_fp = r\"/media/sitian/HDD1/BULCU_TIFFS/BULCU_grid2500_2016backward/shapelet_analysis/masked_shapelet_Mosaic_binary.tif\"\n",
    "mosaic_binary = np.copy(mosaic)\n",
    "mosaic_binary[mosaic_binary>0] =1\n",
    "mosaic_binary[mosaic_binary<0] =0\n",
    "out_binary_meta = src.meta.copy()\n",
    "\n",
    "out_binary_meta.update({\"driver\": \"GTiff\",\n",
    "                 \"height\": mosaic_binary.shape[1],\n",
    "                 \"width\": mosaic_binary.shape[2],\n",
    "                 \"transform\": out_trans,\n",
    "                 \"crs\": \"+proj=longlat +ellps=WGS84 +datum=WGS84 +no_defs\"\n",
    "                            }\n",
    "                            )"
   ]
  },
  {
   "cell_type": "code",
   "execution_count": 19,
   "id": "539485c6",
   "metadata": {},
   "outputs": [],
   "source": [
    "with rasterio.open(out_binary_fp, \"w\", **out_binary_meta) as dest:\n",
    "    dest.write(mosaic_binary)"
   ]
  },
  {
   "cell_type": "code",
   "execution_count": null,
   "id": "2b4cb99b",
   "metadata": {},
   "outputs": [],
   "source": []
  }
 ],
 "metadata": {
  "kernelspec": {
   "display_name": "yieldmapping",
   "language": "python",
   "name": "yieldmapping"
  },
  "language_info": {
   "codemirror_mode": {
    "name": "ipython",
    "version": 3
   },
   "file_extension": ".py",
   "mimetype": "text/x-python",
   "name": "python",
   "nbconvert_exporter": "python",
   "pygments_lexer": "ipython3",
   "version": "3.8.12"
  }
 },
 "nbformat": 4,
 "nbformat_minor": 5
}

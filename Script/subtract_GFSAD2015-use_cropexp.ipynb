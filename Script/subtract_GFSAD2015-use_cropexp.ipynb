{
 "cells": [
  {
   "cell_type": "code",
   "execution_count": 47,
   "id": "3bf7f25d",
   "metadata": {},
   "outputs": [],
   "source": [
    "import rasterio\n",
    "import os\n",
    "import numpy as np"
   ]
  },
  {
   "cell_type": "code",
   "execution_count": 48,
   "id": "99625899",
   "metadata": {},
   "outputs": [],
   "source": [
    "dat_dir = '/media/sitian/HDD1/BULCU_TIFFS/'"
   ]
  },
  {
   "cell_type": "code",
   "execution_count": 49,
   "id": "21b4abef",
   "metadata": {},
   "outputs": [],
   "source": [
    "crop_exp = rasterio.open(os.path.join(dat_dir, 'BULCU_grid2500_2016backward/shapelet_analysis/masked_shapelet_Mosaic_binary.tif'))\n",
    "crop_exp_meta = crop_exp.meta.copy()\n",
    "crop_exp_arr = crop_exp.read()"
   ]
  },
  {
   "cell_type": "code",
   "execution_count": 50,
   "id": "f746a9ab",
   "metadata": {},
   "outputs": [
    {
     "data": {
      "text/plain": [
       "(1, 36554, 43440)"
      ]
     },
     "execution_count": 50,
     "metadata": {},
     "output_type": "execute_result"
    }
   ],
   "source": [
    "# check crop expansion tiff dimension\n",
    "crop_exp_arr.shape"
   ]
  },
  {
   "cell_type": "code",
   "execution_count": 51,
   "id": "56e08c4c",
   "metadata": {},
   "outputs": [],
   "source": [
    "crop_exp_arr = crop_exp_arr[:,:36551,:43439]"
   ]
  },
  {
   "cell_type": "code",
   "execution_count": 52,
   "id": "b9b1c6f5",
   "metadata": {},
   "outputs": [],
   "source": [
    "gfsad2015 =  rasterio.open(os.path.join(dat_dir, 'ZAM_GFSAD_2015/Zam_GFSAD_2015.tif'))\n",
    "gfsad2015_meta = gfsad2015.meta.copy()\n",
    "gfsad2015_arr = gfsad2015.read()"
   ]
  },
  {
   "cell_type": "code",
   "execution_count": 53,
   "id": "d8851f5f",
   "metadata": {},
   "outputs": [
    {
     "data": {
      "text/plain": [
       "(1, 36551, 43439)"
      ]
     },
     "execution_count": 53,
     "metadata": {},
     "output_type": "execute_result"
    }
   ],
   "source": [
    "# check gfsad2015 tiff dimension, found smaller than crop expansion dim\n",
    "gfsad2015_arr.shape"
   ]
  },
  {
   "cell_type": "code",
   "execution_count": 40,
   "id": "7b1c9ede",
   "metadata": {},
   "outputs": [],
   "source": [
    "# for simplicity, padd gfsad to match crop expansion dim \n",
    "\n",
    "# don't do this, this may cause shift of pixel location\n",
    "#gfsad2015_arr_pad = np.pad(gfsad2015_arr,[(0,0),(1,2),(1,0)], mode='reflect')"
   ]
  },
  {
   "cell_type": "code",
   "execution_count": 54,
   "id": "a14b0ab6",
   "metadata": {},
   "outputs": [],
   "source": [
    "# do subtraction\n",
    "bulcu_updated_2000 = gfsad2015_arr - crop_exp_arr\n",
    "bulcu_updated_2000 = bulcu_updated_2000.astype('uint8')"
   ]
  },
  {
   "cell_type": "code",
   "execution_count": 55,
   "id": "5d083344",
   "metadata": {},
   "outputs": [],
   "source": [
    "# use crop expansion tiff as template and write out bulcu_updted_2000\n",
    "with rasterio.open(os.path.join(dat_dir, 'BULCU_grid2500_2016backward/shapelet_analysis/BULCU_updated_2000.tif'),\n",
    "                   'w',\n",
    "                   **gfsad2015_meta) as sink:\n",
    "    \n",
    "    sink.write(bulcu_updated_2000)"
   ]
  }
 ],
 "metadata": {
  "kernelspec": {
   "display_name": "yieldmapping",
   "language": "python",
   "name": "yieldmapping"
  },
  "language_info": {
   "codemirror_mode": {
    "name": "ipython",
    "version": 3
   },
   "file_extension": ".py",
   "mimetype": "text/x-python",
   "name": "python",
   "nbconvert_exporter": "python",
   "pygments_lexer": "ipython3",
   "version": "3.8.12"
  }
 },
 "nbformat": 4,
 "nbformat_minor": 5
}

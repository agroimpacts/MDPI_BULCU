{
 "cells": [
  {
   "cell_type": "code",
   "execution_count": 2,
   "id": "f10bfb4b",
   "metadata": {},
   "outputs": [],
   "source": [
    "\n",
    "from os import listdir\n",
    "from os.path import isfile, join\n",
    "import re\n",
    "import numpy as np\n",
    "import pandas as pd\n",
    "import gdal\n",
    "import matplotlib.pyplot as plt "
   ]
  },
  {
   "cell_type": "code",
   "execution_count": null,
   "id": "947a32b4",
   "metadata": {},
   "outputs": [],
   "source": [
    "def shaplelet_analysis_multi(grid_id):\n",
    "    \n",
    "    slope_thresh=-0.03\n",
    "    \n",
    "   \n",
    "    \n",
    "    ts_len = image_cropprob_flat.shape[1]\n",
    "    time_step = np.arange(ts_len)\n",
    "\n",
    "    a = linear_fit(time_step, image_cropprob_flat)\n",
    "    a_image = a.reshape(col,row).transpose(1,0)\n",
    "\n",
    "    a_image[a_image>slope_thresh] =0  #-0.03\n",
    "    a_image[a_image<=slope_thresh] =1\n",
    "    a_image[a_image==0] = np.nan\n",
    "\n",
    "    shapelet_masked = shapelet_image*a_image\n",
    "    shapelet_masked = np.nan_to_num(shapelet_masked, nan=-999)\n",
    "    \n",
    "    \n",
    "    wirte_grid(a_image, 6, fp, 'a_image_grid' + grid_id, out_folder+'/a_image/')\n",
    "\n",
    "    wirte_grid(shapelet_image, 3, fp, 'shapelet_image_grid' +grid_id, out_folder+'/shapelet/')\n",
    "\n",
    "    wirte_grid(shapelet_masked, 3, fp, 'shapelet_image_masked_grid'+ grid_id, out_folder+'/masked_shapelet/')\n",
    "\n",
    "    extract_cropprob_and_write(6, fp, 'BULCU_grid'+ grid_id+'_Cropprob_image', out_folder+'/Cropprob/')"
   ]
  },
  {
   "cell_type": "code",
   "execution_count": 3,
   "id": "c2bd39fc",
   "metadata": {},
   "outputs": [],
   "source": [
    "bulcu_folder='/media/sitian/HDD1/BULCU_TIFFS/BULCU_grid2500_2016backward/BULCU-all_2016_backward/'\n",
    "out_folder='/media/sitian/HDD1/BULCU_TIFFS/BULCU_grid2500_2016backward/shapelet_analysis'"
   ]
  },
  {
   "cell_type": "code",
   "execution_count": 4,
   "id": "f0f34c04",
   "metadata": {},
   "outputs": [
    {
     "name": "stdout",
     "output_type": "stream",
     "text": [
      "GAP done\n",
      "640048\n",
      "Start t score calculation\n"
     ]
    },
    {
     "name": "stderr",
     "output_type": "stream",
     "text": [
      "/tmp/ipykernel_63397/2320687686.py:148: RuntimeWarning: Mean of empty slice\n",
      "  N_mean = np.nanmean(N, axis=1)\n",
      "/tmp/ipykernel_63397/2320687686.py:149: RuntimeWarning: Degrees of freedom <= 0 for slice.\n",
      "  N_var = np.nanvar(N, axis=1)\n",
      "/tmp/ipykernel_63397/2320687686.py:161: RuntimeWarning: invalid value encountered in true_divide\n",
      "  t =  numerator/(denominator1*denominator2)\n"
     ]
    }
   ],
   "source": [
    "fp = bulcu_folder+'/grid_'+'1766'+ '_BULCU.tif'\n",
    "dataset = gdal.Open(fp)\n",
    "image = dataset.ReadAsArray()\n",
    "\n",
    "image_cropprob = image[1::2,:]/65532 # select every other odd row\n",
    "row = image_cropprob.shape[1]\n",
    "col = image_cropprob.shape[2]\n",
    "band_num = image_cropprob.shape[0]\n",
    "\n",
    "image_cropprob_flat = image_cropprob.transpose(2,1,0).reshape(row*col,band_num)\n",
    "\n",
    "result = shapelet_2d(image_cropprob_flat,3)\n",
    "shapelet_image = result[0].reshape(col,row).transpose(1,0)"
   ]
  },
  {
   "cell_type": "code",
   "execution_count": 5,
   "id": "cc074863",
   "metadata": {},
   "outputs": [
    {
     "data": {
      "text/plain": [
       "(16, 734, 872)"
      ]
     },
     "execution_count": 5,
     "metadata": {},
     "output_type": "execute_result"
    }
   ],
   "source": [
    "image_cropprob .shape"
   ]
  },
  {
   "cell_type": "code",
   "execution_count": 6,
   "id": "60c8feb3",
   "metadata": {},
   "outputs": [
    {
     "data": {
      "text/plain": [
       "(640048, 16)"
      ]
     },
     "execution_count": 6,
     "metadata": {},
     "output_type": "execute_result"
    }
   ],
   "source": [
    "image_cropprob_flat.shape"
   ]
  }
 ],
 "metadata": {
  "kernelspec": {
   "display_name": "yieldmapping",
   "language": "python",
   "name": "yieldmapping"
  },
  "language_info": {
   "codemirror_mode": {
    "name": "ipython",
    "version": 3
   },
   "file_extension": ".py",
   "mimetype": "text/x-python",
   "name": "python",
   "nbconvert_exporter": "python",
   "pygments_lexer": "ipython3",
   "version": "3.8.12"
  }
 },
 "nbformat": 4,
 "nbformat_minor": 5
}

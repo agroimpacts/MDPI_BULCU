{
 "cells": [
  {
   "cell_type": "code",
   "execution_count": 1,
   "id": "c6c8ad05",
   "metadata": {},
   "outputs": [],
   "source": [
    "from osgeo import gdal, gdalconst"
   ]
  },
  {
   "cell_type": "code",
   "execution_count": 2,
   "id": "ba02436e",
   "metadata": {},
   "outputs": [],
   "source": [
    "inDs = gdal.Open('/media/sitian/HDD1/BULCU_TIFFS/BULCU_grid2500_2016backward/shapelet_analysis/masked_shapelet_Mosaic_binary.tif')\n",
    "outDs = gdal.Warp('/media/sitian/HDD1/BULCU_TIFFS/BULCU_grid2500_2016backward/shapelet_analysis/crop-expansion-2000-2015-300m.tif', inDs,\n",
    "                  format = 'GTiff',\n",
    "                  width=int(43440/30), height=int(36554/30),\n",
    "                  #xRes = 300, yRes = 300,\n",
    "                  outputType = gdalconst.GDT_Float64,\n",
    "                  resampleAlg = gdal.GRA_Average)\n"
   ]
  },
  {
   "cell_type": "code",
   "execution_count": 5,
   "id": "0990e6a4",
   "metadata": {},
   "outputs": [
    {
     "name": "stdout",
     "output_type": "stream",
     "text": [
      "43440\n",
      "36554\n"
     ]
    }
   ],
   "source": [
    "inDs = gdal.Open('/media/sitian/HDD1/BULCU_TIFFS/BULCU_grid2500_2016backward/shapelet_analysis/masked_shapelet_Mosaic_binary.tif')\n",
    "b = inDs.GetRasterBand(1)\n",
    "print(b.XSize)\n",
    "print(b.YSize)"
   ]
  }
 ],
 "metadata": {
  "kernelspec": {
   "display_name": "yieldmapping",
   "language": "python",
   "name": "yieldmapping"
  },
  "language_info": {
   "codemirror_mode": {
    "name": "ipython",
    "version": 3
   },
   "file_extension": ".py",
   "mimetype": "text/x-python",
   "name": "python",
   "nbconvert_exporter": "python",
   "pygments_lexer": "ipython3",
   "version": "3.8.12"
  }
 },
 "nbformat": 4,
 "nbformat_minor": 5
}
